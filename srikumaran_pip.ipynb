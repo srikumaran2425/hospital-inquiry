{
  "nbformat": 4,
  "nbformat_minor": 0,
  "metadata": {
    "colab": {
      "provenance": [],
      "authorship_tag": "ABX9TyNBakX4Wd12q0w2xhkyw/wA",
      "include_colab_link": true
    },
    "kernelspec": {
      "name": "python3",
      "display_name": "Python 3"
    },
    "language_info": {
      "name": "python"
    }
  },
  "cells": [
    {
      "cell_type": "markdown",
      "metadata": {
        "id": "view-in-github",
        "colab_type": "text"
      },
      "source": [
        "<a href=\"https://colab.research.google.com/github/srikumaran2425/hospital-inquiry/blob/main/srikumaran_pip.ipynb\" target=\"_parent\"><img src=\"https://colab.research.google.com/assets/colab-badge.svg\" alt=\"Open In Colab\"/></a>"
      ]
    },
    {
      "cell_type": "code",
      "execution_count": null,
      "metadata": {
        "colab": {
          "base_uri": "https://localhost:8080/",
          "height": 646
        },
        "id": "dYZZpLtMpdKi",
        "outputId": "401c1c05-e5e4-43c5-861c-f1171f381f61"
      },
      "outputs": [
        {
          "output_type": "stream",
          "name": "stdout",
          "text": [
            "It looks like you are running Gradio on a hosted Jupyter notebook, which requires `share=True`. Automatically setting `share=True` (you can turn this off by setting `share=False` in `launch()` explicitly).\n",
            "\n",
            "Colab notebook detected. To show errors in colab notebook, set debug=True in launch()\n",
            "* Running on public URL: https://93ba58f8608c25928c.gradio.live\n",
            "\n",
            "This share link expires in 1 week. For free permanent hosting and GPU upgrades, run `gradio deploy` from the terminal in the working directory to deploy to Hugging Face Spaces (https://huggingface.co/spaces)\n"
          ]
        },
        {
          "output_type": "display_data",
          "data": {
            "text/plain": [
              "<IPython.core.display.HTML object>"
            ],
            "text/html": [
              "<div><iframe src=\"https://93ba58f8608c25928c.gradio.live\" width=\"100%\" height=\"500\" allow=\"autoplay; camera; microphone; clipboard-read; clipboard-write;\" frameborder=\"0\" allowfullscreen></iframe></div>"
            ]
          },
          "metadata": {}
        },
        {
          "output_type": "execute_result",
          "data": {
            "text/plain": []
          },
          "metadata": {},
          "execution_count": 5
        }
      ],
      "source": [
        "import gradio as gr\n",
        "\n",
        "# ✅ KMCH FAQ Knowledge Base\n",
        "faq_data_kmch = {\n",
        "    \"what departments are there\": \"KMCH Hospital has numerous departments including Cardiology, Oncology, Neurology, Orthopedics, Gastroenterology, Pediatrics, and many more.\",\n",
        "    \"what services does kmch offer\": \"KMCH offers a wide range of services including inpatient care, outpatient consultations, diagnostic services, emergency care, surgery, rehabilitation, and preventive health check-ups.\",\n",
        "    \"how to book an appointment\": \"You can book an appointment online through the KMCH website (https://www.kmch.ac.in), via their mobile app, or by calling their appointment helpline number.\",\n",
        "    \"what are the visiting hours\": \"General visiting hours are typically from 10:00 AM to 12:00 PM and 4:00 PM to 7:00 PM daily.\",\n",
        "    \"where is kmch hospital located\": \"KMCH Hospital is located at Avinashi Road, Coimbatore - 641014, Tamil Nadu.\",\n",
        "    \"what is the full form of kmch\": \"KMCH stands for Kovai Medical Center and Hospital.\",\n",
        "    \"is emergency service available\": \"Yes, KMCH Hospital has a 24/7 emergency and trauma care center.\",\n",
        "    \"do you have ambulance service\": \"Yes, ambulance services are available for patient transportation.\",\n",
        "    \"can I get a health checkup\": \"Yes, KMCH offers various comprehensive health checkup packages.\",\n",
        "    \"what is the contact number for appointments\": \"You can find the appointment contact numbers on the KMCH website or their app.\",\n",
        "    \"tell me about the history of kmch\": \"KMCH Hospital was established with the vision of providing advanced healthcare services to the community.\",\n",
        "    \"who is the founder of kmch\": \"KMCH Hospital was founded by Dr. Nalla G. Palaniswami.\",\n",
        "    \"is there a pharmacy\": \"Yes, KMCH Hospital has an in-house pharmacy that provides a wide range of medicines.\",\n",
        "    \"where is the pharmacy located\": \"The pharmacy is conveniently located within the hospital premises.\",\n",
        "    \"what kind of medicines are available\": \"The pharmacy stocks a comprehensive range of medicines, including prescription drugs, over-the-counter medications, and surgical supplies.\",\n",
        "    \"are the medicines genuine\": \"Yes, KMCH Hospital's pharmacy dispenses genuine and quality-assured medicines.\",\n",
        "    \"can I get medicines with a prescription\": \"Yes, you can get your prescribed medicines from the KMCH pharmacy by presenting a valid prescription.\"\n",
        "\n",
        "}\n",
        "\n",
        "# ✅ Chatbot Logic\n",
        "def chatbot(user_input):\n",
        "    user_input = user_input.lower()\n",
        "    for question, answer in faq_data_kmch.items():\n",
        "        if any(word in user_input for word in question.split()):\n",
        "            return answer\n",
        "    return \"Sorry, I don't have the answer to that yet. Please visit https://www.kmch.ac.in for more details.\"\n",
        "\n",
        "# ✅ Interface with styled Submit button\n",
        "with gr.Blocks() as demo:\n",
        "    gr.HTML(\"\"\"\n",
        "    <div style=\"text-align: center;\">\n",
        "      <img src=\"data:image/png;base64,iVBORw0KGgoAAAANSUhEUgAAAMwAAADACAMAAAB/Pny7AAAA8FBMVEUZSJj///8ZSJcYSZUZSJr///3///sAPZP2+/wTRJJvh6sjSo0AM38AOJPn6/Bad6UALYZhdaYAOI0OQpORoMBpe6sAKIQ/XJmrs86iuNLH1uRAZJ7t+PzO2uKbqr0AL4SKoMQNOoGUqcnM0eBAXpH3+P8AO4h5j7Y0V4oAKHva4+otUowAMYEWSJ95jq+Nor63x9UPRKEAH31jfKQNPX1OapeqvM+El7RrhJ8ZPnRZcJhzhLE0VZYALnRQaJxUb6lXgKUACHOsyM8AGH8AJXA6XYgAJpAAAHYACWd9nrNpj6xWe7JGa7A4XqgAN56isr0yd1R5AAAbjklEQVR4nN1dCXfbOJLGRYI0JUohEjmWKSmyFTqmTIu2bKpju92zm/TM7PQc///fLAo8RFG8dNjzXuN1O7oI4mMVqgpVhQLC+zZd1zUNG6NPnkcJIpRStF+jlDEWdGaRC33uPR7Z0AFgsGFH365NNRiJhuwJRl5MLRTw/s3tyNDeEYwW30z9/TpaWH1BFBZCANB+TRGVIkIIn/RCG3qH2+wBa0cwMRtoOvDX7fRGyKEosuyJIwFDkHwaBB4IHzxGvoaBg/Xsqb0VGHhkAMi4XFkTtO8sqWmM93uRLx/XPrNnVzASjq4Zw9XcE/KR7stZNY2SLu9F9j5ctrsAkDcZrWZCkAPkVy0YygJuLSMD7z5tdgCjxZPFXZyaAjEJ5aCZUtnUQxIvJyOYOXBLvTWm9mDkdAEs4e+m2FtwtYQjqW561q0RyxvtDcDAM8LuLx3+JtxVgCOpY/KH4Y5adLc5E3737u7I+4ChNLg/cUGsvQVlsH0rFQvog/cBI/9MToeGdnQwYIWFrxOpIGHevwMaAoqUUmF+tLXWnNYCTKwo7Y8WZ+/AYRuQEBMdKdZwS+K0oQyYFqMTRwqxdwaj+O1mFhm6bhwJDDyV8LwPQuyNVEsdGGngWAu3nXxuBKPBdLmYc6Xx35swAIcgPjmxW3FaM2V0/HVFpfXC9pVj9DBjQU4c5j2N2tCmHoySi/azacpO99b6B4IBOGg6C3GzjK4HAwrYf/LEQebLwWDkvKHmPMKN1kATGGM071oHmfpMCPNAysirmdkZG02c1gAGj2YOYdYBE5/Qq+eXA5eiarKym7HRwGrVYOBKPJpz2c3eQ5ErYtPCdo+Tw+1sZv46bvDfVILRwEgezcVBAzgeGNkToTcXrnIP7A5GYeGHLV3WYA7EosQII5MvtfOmhjJyvnB2mJ48HmXAwpWTZzKOV7w7gIl/Pnrl7GhgDsSClD+LUOaNQUJXiIFqMP6Hw+bLccGoJtdrQuobrUqmlYDR1P/282GqUrVjSjMUe27EPCznsSrKyGZcOdb+Fsw2mGNgQcrpKU4vdwOjGeMbFoDb9DBARwbDlOXe/c3fBYymRzewFDv47kcGo3qkZHDralqZpVYGRtcPVZbrWx91zqR9TqRhU6Y7S8HYHxyQyMekzNHAMGZZYhqWSudSaXY7OZI76fhspuYNE/MRLrHRUBGIbNE1BJCy8Ww1KRRiXSrHyljuB6S4cKmgTByRWXdX6ijZ7JquF+2yL+r03PV4K8GAFWOJvOIXLAjUI8mPJaYcrKRp9g0Dd3oVmM2PkQjuWO5HZYwgFT5ZD0M+3Cw2J8Gg/kJBqQUjJ7/7JIIcGLgVKjwhiJYxdQeGNghjFVY+FWCopai4picqsWfVx3naWDloJvWGeMtxW6SMjhcey5tkcqEoBN9o3S6P+YlQ0ZVv1s0JWGFApWzGNru7E6WrP2J6G/cUPNN6jFp3M/BD14GRWIZzAU8re5QB++3Th83WW75a8ff0dLnMf/vppQ0YRv/Id/dpeTI3S6SdOF8ul/nf/UZSMJQKOr3dWneuwYDg1jT3yVOMn7Gnt/RdXGzDU67YzFltfmf8xdxgmG02U5fNDXfTQxml0y+9DkTW/xT6Nv732xoMBLvC4lJgDSYOV4+3CC6uf/766Cf+XvlHD+fXnURsUe/nr9+G4NmW/Osv5j9FC8pIZvlxf7305d2SJ6u5p2LDxQjInOfMPNY0I/x2fd/fYGLGn9xKysTrsdcu24DD1Fx3OskKT/4Z3t8FJJ0zlN3d/XRVKD2y+qyYDFAFRmKewANKxqLhhZkDQ9RdB6PkhvCkwh/b/lRqLWrA6Nhd3QSsSBvIWbgPs3SG266UKyiRZhJO0HF1XfdX3l2AivqiSppBuwnx1+QZygXHFOXASOMY8ZmB7Wxgy67kw6Lc5+fDTUbLgZGcElomLch80AHE6l4kl+m4J0CwsuRLanoLyWaXnxxBt719VeYMPIp+hEe+WgdClGHJc9fCsK/PNHucccwjl1J1s2vZh3flahpeq84cGE23lw6hRTMKpAF1PmZgzgVlKEYsl7HMuXV1HJ07QKQtb3SlBSB/2/+MRysQOyB48OX9ptXB5z6+GGeUOzWLTwpsCGGFyqrZBiOvCafl9qAc8seUffE5z34kJeT0i42NBXjXylqdbQZgvrsKC7RvXKx/RFD/i4EfcmC2mF85Op2lLXWNtg1GzpjHijEpMFoGZi1nHUsa4+6tqFow1FnNAOY6SiLjGo7ug/WTZ8IaSkkzxokww1LalfRO2DQEMGUCIJpUGOpVYPhpaODRk1npXKsFc4ZH3rdsJMb3tWEnH/mJjZf9ceKPKAcjVQ3jkjRaCWWwMQctUTauIhhoMF2+jTQczkV1cLCJzURnrfjGkxxlvDPsW90ETAVlAAyahLllmgITv4n6VQvlLTAwG3n3Uaro8YNZhaQFGNN8ylZZdmcNRkgltBLdZM5UUEZJITHLac6YMobUFIZUMe3AKKtZdKQosv9xfRccAkZYoyQyrhu3/ZQrmLPA/iwDUzVn4JfoPizOGQkGjwesRGSUgpHWp3iJsOb3+vW+6CYBYDLzNpX5+jCbsuBN+kxZCzCIiG9FMPLpGHPQ/TWiOQMjJGXE4xDMzX5DamYjZQif2QkvSS0HcxbUmrgyXPmmBRg5Xe+HeBOMHGPYibVqMxhOTCrNRBx5vCn+3EQZyPe5wKnfKOowFVhiVoTDl1ZgQNU9qmmlZwIADAZR/YjXYDQAI6yVLd/93iVN4cpGNkMW/2CnYPxHgYgaHkx/0gYMQxa69uUjVvY1ivkVD60a5t+kTPdl7MKKdTTl7cFsfxezGQUyJErcGHeUNWmu8Og3OTNbzRmpa04SoyihjI5/qZOwOTAafnkZGvF6NeqQQylDGXGujHT1e6lWueBHGgvWDgxI1rmdaJpkzvgzM/a3NIAB2H6cTWPoxln/UDBEUPFymcgjzbgCQ5f3sL30aCtpRmDJKcZ5AaDhz7Xh8RwYCNwqox1Ywz4ZxBKg2ZzZ/i4WzVK13Ywz0kSS67gIcTilpJ1oBvHHPyQdJHrm2WsHJknVTGNX/mOVOdcWjHxhvvqpQWJ/4JQ9YONWdtsWjFRLL2FeNA9P66bMBpvpo9+Ha9fo6EWNcy9DMwVDJlGSXq7jBSU3Yzyygl3AMG+VB3MhBWEN729Is5e/vvqpNJDLMqsuXtCKMpT37HRN7s/4T9e4GID7rz0Y3nPVtEPw173iqEbNFC0A80S5MGDiaMbClCbdQZShzLnUUlv/ti+nvzQy2s8ZAPMSJmDksIazMidcJRhqLtSMU/nT9gkPrCoLrR0Y2r1VW01A4A8HQy0cQBpoK6UJg5NWA1+kYCSvTItujHow8kkosii167+KyqtbsRmhpuUno9aNlaG9OsqP1R4MlWs0NWdkB/atV29jFWwzxvgsTm5Xq7zhQ1B1eSvKSMV3s0iGrWs2Hg0UoduCUS7vUyXPkJSyo3NOqwzmMjCwk+JJJRrGKdTRjyrN2RIMNeduMmwpU04c9ekuYJA3TsBooWD1kbIiZaQN4TzDtFHMpuMvfVSe8tiSzSjpRzhxg+suhLp2AsPUrIvBGONJHZJtMDCyoD/O4r26++SU2zXtKCObmGM9Zlo8TpL12oNB1Oq++mrOgCHUED4tAUPp3zLfqK7bc7MBzPZ3G2DQj5EWs63xwOMF3w5sZtE7Eww8qTT9ea36rwBD7n5NQw5JYtohlGHdJ6yrLSbRTRLiXIOpcmjk7oL6Z9KUl0ozvGmKaxc8msqAYVS8GmqJB7NGSndRQpr2lEEPo3jWvJo0QMBnCkx8zyY2Q7CQsDUdaXLKNAbpwV2iZyvNOAAgFfeVoaXbj4zFVMTRznIw5U5AmsVmiXerhj2ywCMXsxlP/GbyWZ3WBt/lBeLcl5TRjRPeSBmegZGPLvu5gEViwn2aVFaobeg8A2NmEXG5JLMh//I2C1dJykQ4sQDxrMJxnDUxHeka0uxZcy4Wm6TrHw0vMzCEf/DT2BfYNV5QzLWrYDMIUjMz1NxplpNPg0CKR80/XY+adcP0nvIJNqVF9ENdCgC/07yTl/x9qKUhjcVgPSYaZcEvHdu3k6IpUEkZgro9X9Khn4KRTPXoQhRynR6AruN1DqygrvpNOSNSAkg9E17XLn0ZBM7vn9LFoK7782uHA1vLWTe5SJc2sGCzF06fb+ynrQyddwenl4D/9d6BUAYBxSeZNnadQaxO3vUe9LLavKPpQ2vQ5UFlwpj8gp981ZB+Nqk1zNjL49NJZCsPivIJaf746gP4cszZbQRumrRBMHCxPM0HNivYzOo9n/lx+C+8Wp6bKjOWeldG+KJWRyygr6/Poa0nvcuHJXt+mtWN0zy3pQC4deq2+DBvOXS32rAnGHsYu4bx9Wv2oXop5UAQlIDZiBPPXXll/J+8JoLN3mA7n4crLx6L8+xDf7JHI22y7+ileiFIqCPBSEFRu1+J0Ie4TeP28B3eUPDWyXfeNP1cvvbgP5PkFgSllGGIew8P8qfxNdN1QsmDmWw3opb1/buXdhzf3nuoW3QR+sPXEH6oT/kjLLi7C1jWgiCAsLJyWEnpZVko/QalGUq0BMx2TBMuDyhZZ8eoXJ/YkiEoCGJBJ3/D7rjqvpiYUxjnIMLI/XujI38zUyrZd5jueefrVCuQzJuKsyqrKYGuEKSZWCQGo36gPkwfUFwHIk4+qh4q6S8w8n/QQ7aSsdKX22AqR1F56+0r6h86v8IoHNCG1cwB7RAwu96KP2EUDeiBlRbq7nD8tMaqRvnMQIuudYyk3/L2FtmzVbdiUwP9X/cNNyy+IxhGrw30j5rI98HtHdmMWfcu+kO8SSmMuL0nZax7H/2T0/cA81Z3yBqjf/XRv/4cYKS6vR+if22n2B2vvR+bSfUyGCL6JwFD3hHMW90hbe8Chr4fZfpDZG1n4hNS3FGwZ1P9xGCO0yGtXOFLASAp80JREUxi3+cbbfUqd2H2UUwZtPmzugsaXlUxbAKmuOGDEcSO2BSYY3ZYB8bc2r3COkdsN9+x/Xh9xA5LndoARuqZf26BoV6IjSM2rB+zN/u5W0EZCeYPkxSWcKxTvqNrvwYJR7h9HZzG9vWqHAxlP3z0LIpp2YT2To7ZsL14PmJ3Ff4mKn64aCWKSzNChNM9VuPdqRQA/+ZH649X+M4oupcrzRtWkM1MJJ4TQte7qbJ/SzQGyb9Ia0al/yo9Iwo/St/lOyveoey77QT9HJv9aqCzSTG4mvh1ko07KNmQgeIXye6M7MPsd9n79EWyiSNWmvkO4h9sdFB6h9z7/B0qvDSUzw3wzqAimKMpGtlzojSP1CGrdPJR/ojR6P5dXE1vdIN1o/wEI/swJ2B9e0/vjPNFQ8bgTwKmf6Yj4w257D3ZjNwPdaR96P4p/GZkAPGZL/03vMM7OjTmACa6/u84zo9LK8aXBkSbB8HOAiBdUTUNrY4yhOQ6WvcHZRpZ8fNKvb9u3RWAsa0dwCQKFSVb/0iKhLHS4EQNZUhiuZC1wUSS2s9xjIkkRkxsIzWObBBB7oz9yNuDgY6hbLYaTjZ+pjYj1+bObIOJLyFrKgMKE+KWiQm2/goSNhsGxrwhgDFW3V0ok1qKm/UOSb4QQRmY7a/ggmDTYCWw518B3LZmGwYm5r7Kaooasx/WDRhMOIP7AbTuOvHEc1CZ2VQnAKg1vY77ydr9dX/ALNofbLcJqxcZsC3QQFgfTVuBUWlgjPevf/sYDYfD0TBa9KaDLmBg5j/C8voE1WDY3cvQ9/1hvsH7Fz53Cx/D52FtThxB/QtDk2CwfW425s6Q2J4X998i18hWwcbXy6vpQEjTOLwsTVmtYTPG6MlqPEp2r6jsVTwar65oYK0WkZ1uUYT0DGP4cfVcmwRAmANJQ0iTk8ZppIyaE7wP5Sx1Q5V7gNwJdcPosfPrLb60dgQD/fH+j0+GniTl6e7qR7d7F1DU7f77/sKNQcrn5s4Gf73r1vGYXBvPYMM97AWIGlMBlRgTryGOk3+N0Wo2/dmxemc+pIr7PgYwu80ZWJpIgnvj9W7Ae2pZ0I180GI6Sgim4dUDLPFqE04ZP4EsbQQJllaFL2p9ZwnGWtkqdwcbYe8aquoyzgfTL358DIUEs1vCKYOqI5Zl3iZeF804G6j1pVBFUjphTBddJbg15V0wZ2wkYOTNlOlcfQUU5Twz4vMz7EWHq2IrIEV5/zRSbH9Jt/be14NJFuf8OdmMjY0FLOCTnBXWj5LdBrrxgTdZABT20sOeM8i+XTiw26kGDIUMRjUdNfuTShxI9D9B3LuAuXNJyx5GrdUMCp+IT2kiq/Flkhg4YAVALlx8Q+ODaADDkBfvJ0IwxUKrofgfnUQJNxgng02WZGRyhoEy5YVw6q3mEjDxdRtgmnJIGfNUkTAQABr2P9WXlGeDi7Si/WJSzOdgd51RM5jy8SgweiOYeiwwC+JnjZRkXPCaDXSEdJduog58664Qz5XY+COAKdt+2wpMM2UasBB+Hss+FNfNsirZDFTl1Ffpy/KnKxFsTHRlR7FpiC9Lc1aOxGYNYBC/itV4DMbuOVXCWY51MDYSbWzPtp2jEpzZk5Qp3bH/LmDYS5LEm2w6XVUmnRCabgyH7ZwlzCjBBJZ/aZn/NTDiNRlgAubypWoDHUGTMRBRHddzW5LPDXve0cdLq7Tg2rvMGal485tOpWaqMjZVybqEMG6vREpCqR562ivdG7kjZdbpngBGawdGapVhUioYxXoWj8t3ncuRwv6HBMzovDyeIA298pNP2oOR9mseDJ20pAycg/CY7khI6wEY86paGN44K9NUk1jc5NBoZDPd+DhZRzXAP9mGMvIGQSdV6OtKDauqAjovacUNTZKvutsGMBWd5ymz+ls/bZObv7VkMyl+vhsbYHTJaH6nnM/46yiJcJYVP2sNpokyctDDi1wbj7RWbEbpZLFRq0lTO9dOSjPPGf/gZ6UAFk37ufYHo5ZJuabjtmx2sy48k8wZUJz3pVtP+LOdbviRVs+O3sIdpNlWKdl2YNBkgUvA4GW3xBsohZn7PmCM8bdZ1n7/FrWaMyyYuuunkKui5d+XbOvdBFO3Nf1gMF8G60qTwaClAJh8wWVgpH53StZATp7N9gfTNGek3v7i5PyBUjS3EQDm3MYFNkvA+A/m1pqO8d66EOHnYjnW9mDKv9+QZl9usiAsoS3AwC4IKHZcBkYtn7cOmVGiOUUb7XrCx5samtI64ec+zuWybBQ4HJ2LLbdupjTBBVNfaqMOzBsYmoQGHI7XKAUjlfDY2wJDvLOkXIcGdQz2BVP+/WFWM/V6cL5jGRgQ9H6PFzmJpoYmnNb4SZTHYZrBvAFlGJpHmp4/W2OzXKucFWbBM0nE6Sj5XscfBbgDS8NgO9cDOARMHFVxTlxNy5UELJY4Np6LewMJmXxO9n5qUKhra8tvPCoohLttOr8pGHE6LOSxbYLRteFpYflLKT+3U8q5j2ILC7ieqCli7907gjHpl2I5/a0a54viWl52rBwaqhDpipZ6Ls3zP3auB3AwmFejaM7llaaa5caT2FCNMEmm8REJEF6Y5xMH1QIXToR49ZelgdEWlFni5ORcaQGswTQszqAc8XSIdW2Tz4o1zqX8tYKNaSPH67y6WI8ZbezkwpksPuOGP9r2kpcWXW/M0AAw8QQ2FlldgtgCyMBs6wNmsu4Cb7UtMDoed7YOZhys0ggX/qXPsoCpigUI78kFDbQXGCZOsijAxSCNW0qCJw4NKARdRhn278eS0wILNc5Vdb5fOhtnTsmJHaR+QKy5vRszjZNDkNOxVi62b83SxVATm6mSeSmTn93n7ngdZtVNlyWOR2GVHQ5SLNiutsJ/K3qUCHJW6VHX7mo+MRM24xO6jHTsn3RYA5gyykhxrg6SiB+jNuzwJIuRUGeeTFPgFDg0btO/LTpRWXpxkTKqJk9oqbI6JHO6UBZ4y8t41ujG5ceZNwG/g3O+guO8wycHle/1rAND6E3/en5hpNX9NePzqewzQKTfn0AIK3289uJh0nfW18kb3ayMzJSvBJM0I5psHWvIxOlHH8f1Pwz/MoxkG/qyT3cx79+VANkEU/LdSzQcbjKLPxyGc3M+LHxuyM/PgBVY3CVzluWnOJaCAYcc2doiIMTp7RDjrDigau7nV5MHVbKqGowU6C+L/4wL7WI8tqj1H/h88XHjm5XJUjCIz0Zb5xvUgMH2slOUaISyO269LoZfMzliR8s53141tKIMC4RJIBj73YIzIeAjaRZalgpCCyEFpUhboSS4KgZemo9fccwRHj16yeEfWScqdBqIm441W54sT55Op52OZyJKqze1NGQ1xZ7YNPMYSg+oUzZQthU/WXbmWV7O3rHisbZsBrS5nJuE5YqoxzHZuPuAqwM04sTlChxNlIm3/6ju5EPKygAoi5WQJE8rTgXL0pkBIHVWlfskqk7T0qFENjv0PPMj52hC3NQ7cSuPpa4CA/LdMpOTBzIzY38wLX+fJbCVfy2xLO3yyV8HRnnlHswGNjo2mMbmQMW7ynMbq8/ThLKSHQhLH7Ar/YhsppS48+inFu9uYFQGyA3bFIv/NTBgBpLJB792z1X9sa3uRV+dNXQ4mAOxIBB1k149llrKyInmXkwE29WPWQbmYDZjaLL0q+d+I2UgQerr5058ttZeozkOGGXFkATLnpTBsRcXCuQlW50OAHMAFrWlN+iDTMbVk78ZDFba84Xve875cSgDyWPmrdu8P7IZjLRszrm0APcZxpEow4S1MCr1flswyeWjpWfuxWdHAsPn4zjD8VAwqoiqu/JEPvm/PRi6P5g4oR7SfF/DOKuqCU0jm8Vlpo3xXC4Jdj6zPAXj7CPckw3zpncyitcvB1ImR6Gw1yk/XbGu0Ywye4BRixoGRyq03WrdDoxyDq48jvYB4472OzRZYZm8hkbFunJfMGr2uZFktd3HQx/PS3OeW1xMhHPra7j1Hvh2YODRyMkD583Ei8+Wok1tUBF3zYU6NxtTlS0pdaaRscv2+7ZsBg1czT876gTSXQa3u0yPi+ih+w/bRyweDYzaz7CcqKKXtbn5hzZw8pvWtMoJcxQwEECU1s3MbErOP7ixgIMLu4We3BsMMBosCz4qODnv7bEaQfFOHcZfToZbR38eFYyW/TtazUyhzhw+0EdQwAJGBkWBhALyGGOjUefvDWaNCjbQnN7IdY5VHhXcGw24yRxzCd74XVlsbzCS14zhYj4Ae+2IO9ZBInteL1Tx4B3n/t5gDBX6MEZnp/f8WNvv44jZZHoSqjOLNG2f6i77gFG3UpGN6HHSTfzE+2GAKRc7eRkKBtZqpPLBlNh8LzDr5g6Xky4PVCSAbbimW4JRF0LU0bmendlGLMJ2nPfHAZOYbL93AuWst0o30dU2YFICNpi3Gu0uiovt/wHpYz2AuaXtcwAAAABJRU5ErkJggg==\" alt=\"KMCH Logo\" style=\"height: 100px; margin-bottom: 10px;\">\n",
        "\n",
        "        <h1>WELCOME TO KMCH CHATBOX </h1>\n",
        "        <h4>Ask about departments, services, appointments, health checkups, and more.</h4>\n",
        "    </div>\n",
        "    \"\"\")\n",
        "\n",
        "    with gr.Column():\n",
        "        user_input = gr.Textbox(label=\"Ask a question\", placeholder=\"Type your query about KMCH Hospital here\")\n",
        "        output = gr.Textbox(label=\"Chatbot Response\", lines=4)\n",
        "        ask_btn = gr.Button(\"Submit\")\n",
        "\n",
        "    ask_btn.click(fn=chatbot, inputs=user_input, outputs=output)\n",
        "\n",
        "# ✅ Launch the app\n",
        "demo.launch()"
      ]
    }
  ]
}